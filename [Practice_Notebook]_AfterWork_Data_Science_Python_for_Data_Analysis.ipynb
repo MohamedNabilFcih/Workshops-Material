{
  "nbformat": 4,
  "nbformat_minor": 0,
  "metadata": {
    "colab": {
      "name": "[Practice Notebook] AfterWork Data Science: Python for Data Analysis ",
      "provenance": [],
      "collapsed_sections": [
        "pcxusFFvAC4A",
        "GH7mXeCSkq0h",
        "aQKL2Y8uksQX",
        "Q2e7YkLzWW0G",
        "bz-KdKO3fLjt",
        "5EMtq00FfJz4",
        "QelPgwtAbOlI",
        "IpCJdHqAkk6k",
        "eoVFeAANfZSA",
        "eUQgKNf6bTro",
        "FFOkaq3vXZMh",
        "YC9AVuitZFD8",
        "UxbUs5stZiZs",
        "1mUNWEtSZsi9",
        "6XZbcORGZLd0",
        "xldYtGZ-Zjz5",
        "q9c7In767vRZ"
      ],
      "toc_visible": true,
      "include_colab_link": true
    },
    "kernelspec": {
      "name": "python3",
      "display_name": "Python 3"
    }
  },
  "cells": [
    {
      "cell_type": "markdown",
      "metadata": {
        "id": "view-in-github",
        "colab_type": "text"
      },
      "source": [
        "<a href=\"https://colab.research.google.com/github/MohamedNabilFcih/Workshops-Material/blob/master/%5BPractice_Notebook%5D_AfterWork_Data_Science_Python_for_Data_Analysis.ipynb\" target=\"_parent\"><img src=\"https://colab.research.google.com/assets/colab-badge.svg\" alt=\"Open In Colab\"/></a>"
      ]
    },
    {
      "cell_type": "markdown",
      "metadata": {
        "id": "wNodc6SRc-as"
      },
      "source": [
        "<font color=\"blue\">To use this notebook on Colaboratory, you will need to make a copy of it. Go to File > Save a Copy in Drive. You can then use the new copy that will appear in the new tab.</font>\n"
      ]
    },
    {
      "cell_type": "markdown",
      "metadata": {
        "id": "UFxpc1GNbCuw"
      },
      "source": [
        "# AfterWork Data Science: Python for Data Analysis"
      ]
    },
    {
      "cell_type": "markdown",
      "metadata": {
        "id": "pcxusFFvAC4A"
      },
      "source": [
        "## 1. Importing our Libraries"
      ]
    },
    {
      "cell_type": "markdown",
      "metadata": {
        "id": "GH7mXeCSkq0h"
      },
      "source": [
        "### Examples"
      ]
    },
    {
      "cell_type": "code",
      "metadata": {
        "id": "iv0IIHuFkFnC"
      },
      "source": [
        "# Example 1\n",
        "# ---\n",
        "# Let's first import the pandas library. \n",
        "# We will use this library to perform analysis and manipulation.\n",
        "# ---\n",
        "# Hint: pandas as pd\n",
        "# ---\n",
        "#\n",
        "import pandas as pd"
      ],
      "execution_count": null,
      "outputs": []
    },
    {
      "cell_type": "code",
      "metadata": {
        "id": "_-wn-gNt8_0R"
      },
      "source": [
        "# Example 2\n",
        "# ---\n",
        "# Let's import the numpy library for performing scientific computations.\n",
        "# ---\n",
        "# Hint i.e. numpy as np\n",
        "# ---\n",
        "# \n",
        "import numpy as np      "
      ],
      "execution_count": null,
      "outputs": []
    },
    {
      "cell_type": "markdown",
      "metadata": {
        "id": "aQKL2Y8uksQX"
      },
      "source": [
        "### <font color=\"green\">Challenges</font>"
      ]
    },
    {
      "cell_type": "code",
      "metadata": {
        "id": "kPSzvlvzkvla"
      },
      "source": [
        "# Challenge 1\n",
        "# ---\n",
        "# Question: Import the matplotlib library for data visualisations.\n",
        "# ---\n",
        "# Hint: matplotlib.pyplot as plt\n",
        "# ---  \n",
        "# YOUR CODE GOES BELOW\n",
        "#"
      ],
      "execution_count": null,
      "outputs": []
    },
    {
      "cell_type": "code",
      "metadata": {
        "id": "ExruDi-ekvZg"
      },
      "source": [
        "# Challenge 2\n",
        "# ---\n",
        "# Question: Import the seaborn library for rich data visualisations.\n",
        "# ---\n",
        "# Hint: seaborn as sns\n",
        "# ---  \n",
        "# Hint\n",
        "# ---\n",
        "# YOUR CODE GOES BELOW\n",
        "#"
      ],
      "execution_count": null,
      "outputs": []
    },
    {
      "cell_type": "markdown",
      "metadata": {
        "id": "Q2e7YkLzWW0G"
      },
      "source": [
        "## 2. Loading Datasets"
      ]
    },
    {
      "cell_type": "markdown",
      "metadata": {
        "id": "bz-KdKO3fLjt"
      },
      "source": [
        "### Examples"
      ]
    },
    {
      "cell_type": "code",
      "metadata": {
        "id": "356YUryNfTqK"
      },
      "source": [
        "# Example 1\n",
        "# ---\n",
        "# We can load a dataset from a csv file (accessible via URL) \n",
        "# then store it in a tabular form: a dataframe as shown below. \n",
        "# ---\n",
        "# Dataset URL = http://bit.ly/IrisDataset\n",
        "# ---\n",
        "# \n",
        "\n",
        "# Loading the dataset\n",
        "iris_df = pd.read_csv(\"http://bit.ly/IrisDataset\")\n",
        "\n",
        "# Printing the dataset\n",
        "iris_df"
      ],
      "execution_count": null,
      "outputs": []
    },
    {
      "cell_type": "code",
      "metadata": {
        "id": "v4tuI2ixes3k"
      },
      "source": [
        "# Example 2\n",
        "# ---\n",
        "# Lets create a dataframe from an xlsx file accessed from a URL as shown.\n",
        "# ---\n",
        "# Dataset URL = http://bit.ly/WorldPopulationDataset1\n",
        "# ---\n",
        "# Hint: This is a file in excel format.\n",
        "# ---\n",
        "# \n",
        "world_df = pd.read_excel(\"http://bit.ly/WorldPopulationDataset1\") \n",
        "world_df"
      ],
      "execution_count": null,
      "outputs": []
    },
    {
      "cell_type": "code",
      "metadata": {
        "id": "l5W3kEz7eshu"
      },
      "source": [
        "# Example 3\n",
        "# ---\n",
        "# Let's see how we can create a dataframe from an uploaded local CSV file. \n",
        "# ---\n",
        "# Download URL = http://bit.ly/CitiesDataset1 \n",
        "# ---\n",
        "# YOUR CODE GOES BELOW\n",
        "# "
      ],
      "execution_count": null,
      "outputs": []
    },
    {
      "cell_type": "code",
      "metadata": {
        "id": "Xpt8zo_8ncaE"
      },
      "source": [
        "# Run the following code which will help us upload our downlaoaded file. \n",
        "# Then select the choose files box in the output and afterwards select the desired file.\n",
        "# ---\n",
        "#\n",
        "from google.colab import files\n",
        "files.upload()"
      ],
      "execution_count": null,
      "outputs": []
    },
    {
      "cell_type": "code",
      "metadata": {
        "id": "W4-p6gqkoD7l"
      },
      "source": [
        "# Upon selecting and uploading the given file from our computer, \n",
        "# we the read the file as shown below.\n",
        "# \"cities (6).csv\" would be the name of our file.\n",
        "# ---\n",
        "#\n",
        "cities_df = pd.read_csv(\"cities (6).csv\")\n",
        "\n",
        "# Printing the dataframe\n",
        "cities_df"
      ],
      "execution_count": null,
      "outputs": []
    },
    {
      "cell_type": "markdown",
      "metadata": {
        "id": "5EMtq00FfJz4"
      },
      "source": [
        "### <font color=\"green\">Challenges</font>"
      ]
    },
    {
      "cell_type": "code",
      "metadata": {
        "id": "OzAHrtyxfRS2"
      },
      "source": [
        "# Challenge 1\n",
        "# ---\n",
        "# Question: Create and print a dataframe from a CSV file given the URL below.\n",
        "# ---\n",
        "# Dataset URL = http://bit.ly/TitanicDataset1\n",
        "# ---\n",
        "# YOUR CODE GOES BELOW\n",
        "#"
      ],
      "execution_count": null,
      "outputs": []
    },
    {
      "cell_type": "code",
      "metadata": {
        "id": "FEbocJRCfSg9"
      },
      "source": [
        "# Challenge 2\n",
        "# ---\n",
        "# Question: Create and print a dataframe from the given Excel file found on the given URL.\n",
        "# ---\n",
        "# Dataset URL = http://bit.ly/WindmillDataset\n",
        "# ---\n",
        "# YOUR CODE GOES BELOW\n",
        "#"
      ],
      "execution_count": null,
      "outputs": []
    },
    {
      "cell_type": "code",
      "metadata": {
        "id": "9m86BizmfS_c"
      },
      "source": [
        "# Challenge 3\n",
        "# ---\n",
        "# Question: Create and print a dataframe from a local file that can be downloaded from the following link.\n",
        "# ---\n",
        "# Dataset Download URL = http://bit.ly/AtaraaDiabetesDataset1\n",
        "# ---\n",
        "# YOUR CODE GOES BELOW\n",
        "#"
      ],
      "execution_count": null,
      "outputs": []
    },
    {
      "cell_type": "markdown",
      "metadata": {
        "id": "QelPgwtAbOlI"
      },
      "source": [
        "## 3. Performing Data Exploration"
      ]
    },
    {
      "cell_type": "markdown",
      "metadata": {
        "id": "IpCJdHqAkk6k"
      },
      "source": [
        "### Examples"
      ]
    },
    {
      "cell_type": "code",
      "metadata": {
        "id": "wIkQKFN-eR9Q"
      },
      "source": [
        "# Example 1\n",
        "# ---\n",
        "# Determining the no. of records in the iris dataset.\n",
        "# ---\n",
        "# NB: This dataset was stored in the dataframe df\n",
        "# ---\n",
        "# \n",
        "\n",
        "# Shape returns no. or records/instances and columns/variables\n",
        "#\n",
        "iris_df.shape"
      ],
      "execution_count": null,
      "outputs": []
    },
    {
      "cell_type": "code",
      "metadata": {
        "id": "yBxOysIfejkt"
      },
      "source": [
        "# Example 2\n",
        "# ---\n",
        "# Previewing the first few records of the dataframe\n",
        "# NB: head() will give us the first five instances.\n",
        "# You can also specify the no. of desired records by passing \n",
        "# a no. into the function i.e. head(3).\n",
        "# ---\n",
        "# \n",
        "iris_df.head()"
      ],
      "execution_count": null,
      "outputs": []
    },
    {
      "cell_type": "code",
      "metadata": {
        "id": "W_HUqgLgevPs"
      },
      "source": [
        "# Example 3\n",
        "# ---\n",
        "# Checking the bottom of the iris_df dataframe \n",
        "# NB: tail() gives us the last 5 records\n",
        "# ---\n",
        "# \n",
        "iris_df.tail()"
      ],
      "execution_count": null,
      "outputs": []
    },
    {
      "cell_type": "code",
      "metadata": {
        "id": "q5wmuTFulw1t"
      },
      "source": [
        "# Example 4\n",
        "# ---\n",
        "# Checking the datatypes of our columns\n",
        "# ---\n",
        "# float64 - floating point no.\n",
        "# object - strings are store as objects\n",
        "# ---\n",
        "# \n",
        "iris_df.dtypes"
      ],
      "execution_count": null,
      "outputs": []
    },
    {
      "cell_type": "code",
      "metadata": {
        "id": "v0s15pHNeoxf"
      },
      "source": [
        "# Example 5\n",
        "# ---\n",
        "# Bivariate Analysis: Correlation Coefficients\n",
        "# ---\n",
        "# The correlation coefficient is a statistical measure that calculates the strength of the relationship \n",
        "# between the relative movements of two variables. The values range between -1.0 and 1.0. \n",
        "# A correlation of -1.0 shows a perfect negative correlation, while a correlation of 1.0 shows a perfect positive correlation. \n",
        "# A correlation of 0.0 shows no relationship between the movement of the two variables.\n",
        "# ---\n",
        "#\n",
        "\n",
        "# We will first create a correlation matrix \n",
        "# This will give use the correlation values for the different variables.\n",
        "# ---\n",
        "#\n",
        "corr = iris_df.corr()"
      ],
      "execution_count": null,
      "outputs": []
    },
    {
      "cell_type": "code",
      "metadata": {
        "id": "E9cE-w71WZBB"
      },
      "source": [
        "# We can create a heatmap in order to have a visual \n",
        "# of our correlation matrix as shown below\n",
        "# ---\n",
        "\n",
        "# Let's set the size of our visualisation\n",
        "fig, ax = plt.subplots(figsize = (10, 10))\n",
        "\n",
        "# Let's generate a color map to use for our visualisation\n",
        "colormap = sns.diverging_palette(220, 10, as_cmap = True)\n",
        "\n",
        "# Generate heat map, allow annotations and place floats in map\n",
        "sns.heatmap(corr, cmap = colormap, annot = True, fmt = \".2f\")\n",
        "\n",
        "# Apply xticks\n",
        "plt.xticks(range(len(corr.columns)), corr.columns)\n",
        "\n",
        "# Apply yticks\n",
        "plt.yticks(range(len(corr.columns)), corr.columns)\n",
        "\n",
        "# show plot\n",
        "plt.show()"
      ],
      "execution_count": null,
      "outputs": []
    },
    {
      "cell_type": "markdown",
      "metadata": {
        "id": "MAM2IvOCTXjo"
      },
      "source": [
        "From the above heatmap, we can see that variables with a color close to red have a correlation coefficient close to 1. This means the those values have a strong positive correlation. This means that as values of one variables increase, so do the values of the other variable.\n",
        "\n",
        "On the other had variables with a correlation coefficient value close to -1 have a weak negative correlation meaning, when values of one variable increase, then the values of the other variable decrease.\n",
        "\n",
        "Variables with a correlation coefficient close to 0 would either have a weak correlation or if the have a correlation coefficient of 0, then they would have no correlation at all."
      ]
    },
    {
      "cell_type": "markdown",
      "metadata": {
        "id": "eoVFeAANfZSA"
      },
      "source": [
        "### <font color=\"green\">Challenges</font>"
      ]
    },
    {
      "cell_type": "code",
      "metadata": {
        "id": "kC2Tpjyxfe8j"
      },
      "source": [
        "# Challenge 1\n",
        "# ---\n",
        "# Question: Determining the no. of records in the cities dataset i.e. cities_df\n",
        "# ---\n",
        "# YOUR CODE GOES BELOW\n",
        "#"
      ],
      "execution_count": null,
      "outputs": []
    },
    {
      "cell_type": "code",
      "metadata": {
        "id": "SqHH4ArBfqFa"
      },
      "source": [
        "# Challenge 2\n",
        "# ---\n",
        "# Question: Previewing the first few records of the cities dataset\n",
        "# ---\n",
        "# YOUR CODE GOES HERE\n",
        "#"
      ],
      "execution_count": null,
      "outputs": []
    },
    {
      "cell_type": "code",
      "metadata": {
        "id": "y27qDx-8frnK"
      },
      "source": [
        "# Challenge 3\n",
        "# ---\n",
        "# Question: Previewing the last few records of the cities dataset\n",
        "# ---\n",
        "# YOUR CODE GOES HERE\n",
        "#"
      ],
      "execution_count": null,
      "outputs": []
    },
    {
      "cell_type": "code",
      "metadata": {
        "id": "dRCw2g9RmMnI"
      },
      "source": [
        "# Challenge 4\n",
        "# ---\n",
        "# Question: Check the data types of the cities dataset\n",
        "# ---\n",
        "# YOUR CODE GOES HERE\n",
        "#"
      ],
      "execution_count": null,
      "outputs": []
    },
    {
      "cell_type": "code",
      "metadata": {
        "id": "_Wsmuo1Zf8R2"
      },
      "source": [
        "# Challenge 5\n",
        "# ---\n",
        "# Question: Determine if there are relationships between the variables in the cities da"
      ],
      "execution_count": null,
      "outputs": []
    },
    {
      "cell_type": "markdown",
      "metadata": {
        "id": "eUQgKNf6bTro"
      },
      "source": [
        "## 4. Filtering and Sorting"
      ]
    },
    {
      "cell_type": "markdown",
      "metadata": {
        "id": "FFOkaq3vXZMh"
      },
      "source": [
        "### Examples and <font color=\"green\">Challenges</font>"
      ]
    },
    {
      "cell_type": "code",
      "metadata": {
        "id": "hlWrf44NAecP"
      },
      "source": [
        "# Example 4a\n",
        "# ---\n",
        "# Question: Filtering records when columns contain certain values\n",
        "# ---\n",
        "# NB: Filtering records where petal_length is 5.0 \n",
        "# ---\n",
        "# YOUR CODE GOES BELOW\n",
        "#  \n",
        "\n",
        "# Previewing the first 5 records\n",
        "iris_df.head()"
      ],
      "execution_count": null,
      "outputs": []
    },
    {
      "cell_type": "code",
      "metadata": {
        "id": "CssurHCU2gXU"
      },
      "source": [
        "# Filtering the records where column has certain values \n",
        "# ---\n",
        "#\n",
        "iris_df[iris_df.petal_length.isin(['5.0'])]"
      ],
      "execution_count": null,
      "outputs": []
    },
    {
      "cell_type": "code",
      "metadata": {
        "id": "48D2vBZuEukC"
      },
      "source": [
        "# Challenge 4a\n",
        "# ---\n",
        "# Question: From the given dataset, find observations with outlets established in 2002.\n",
        "# ---\n",
        "# Dataset URL = https://bit.ly/ShoprityDS\n",
        "# ---\n",
        "# YOUR CODE GOES BELOW\n",
        "# "
      ],
      "execution_count": null,
      "outputs": []
    },
    {
      "cell_type": "code",
      "metadata": {
        "id": "lQoQq-nfAjL7"
      },
      "source": [
        "# Example 4b\n",
        "# ---\n",
        "# Question: Select records where column doesn't have certain values \n",
        "# in our case, where petal_leghth is not 5.0. We use the \"~\" to specify this.\n",
        "# ---\n",
        "# YOUR CODE GOES BELOW\n",
        "# \n",
        "iris_df[~iris_df.petal_length.isin(['5.0'])]"
      ],
      "execution_count": null,
      "outputs": []
    },
    {
      "cell_type": "code",
      "metadata": {
        "id": "C5IPcb_bEv_B"
      },
      "source": [
        "# Challenge 4b\n",
        "# ---\n",
        "# Question: Select all the Dairy observations from the given dataset.\n",
        "# ---\n",
        "# Dataset url = https://bit.ly/ShoprityDS\n",
        "# ---\n",
        "# YOUR CODE GOES BELOW\n",
        "# \n"
      ],
      "execution_count": null,
      "outputs": []
    },
    {
      "cell_type": "code",
      "metadata": {
        "id": "JDnwO9TSHy3j"
      },
      "source": [
        "# Example 4c\n",
        "# ---\n",
        "# Question: Filter records where petal_width greater than 1.8\n",
        "# ---\n",
        "# YOUR CODE GOES BELOW\n",
        "# \n",
        "iris_df[(iris_df['petal_width'] > 1.8)]"
      ],
      "execution_count": null,
      "outputs": []
    },
    {
      "cell_type": "code",
      "metadata": {
        "id": "bYeaoRAIH0vO"
      },
      "source": [
        "# Challenge 4c\n",
        "# ---\n",
        "# Question: Which observations had items outlet sales greater than 2000?\n",
        "# ---\n",
        "# Dataset url = https://bit.ly/ShoprityDS\n",
        "# ---\n",
        "# YOUR CODE GOES BELOW\n",
        "# \n"
      ],
      "execution_count": null,
      "outputs": []
    },
    {
      "cell_type": "code",
      "metadata": {
        "id": "vhrdWafVWXkj"
      },
      "source": [
        "# Example 5d\n",
        "# ---\n",
        "# We can also use the query method to get data where petal_width is equal to 1.0.\n",
        "# ---\n",
        "# Once you run this cell, replace the equals operator == to with less than < \n",
        "# or greater than > operators to see their applications as well.\n",
        "# ---\n",
        "# The parameter inplace makes changes in the original dataframe if True.\n",
        "# We should also note the query method works if the column name doesn’t have any empty spaces.\n",
        "# Hence the need replace blank spaces in our column names with '_'\n",
        "# ---\n",
        "#  \n",
        "\n",
        "# Let's filter our data\n",
        "#\n",
        "iris_df.query('petal_width == 1.9', inplace = True) \n",
        "\n",
        "# Previewing our dataset \n",
        "iris_df.head()"
      ],
      "execution_count": null,
      "outputs": []
    },
    {
      "cell_type": "code",
      "metadata": {
        "id": "lxqszAhTZCWU"
      },
      "source": [
        "# We can also perform multiple condition filtering as shown below\n",
        "# ---\n",
        "#\n",
        "\n",
        "iris_df.query('sepal_width == 2.7 and petal_length == 5.1', inplace = True) \n",
        "\n",
        "# Previewing our dataset \n",
        "iris_df.head()"
      ],
      "execution_count": null,
      "outputs": []
    },
    {
      "cell_type": "code",
      "metadata": {
        "id": "6Ngs4-KCdszu"
      },
      "source": [
        "# We can also get the same result as shown below \n",
        "# ---\n",
        "# We use the '&' operator\n",
        "# ---\n",
        "#\n",
        "iris_df[(iris_df.sepal_length == 5.8) & (iris_df.petal_length == 5.1)]\n",
        "\n",
        "# Previewing our dataset \n",
        "iris_df.head()"
      ],
      "execution_count": null,
      "outputs": []
    },
    {
      "cell_type": "code",
      "metadata": {
        "id": "nrpXmqvbd_mo"
      },
      "source": [
        "# Challenge 5d\n",
        "# ---\n",
        "# Question: Which observations had items outlet sales greater than 2000 and less than 3000?\n",
        "# ---\n",
        "# Dataset url = https://bit.ly/ShoprityDS\n",
        "# ---\n",
        "# OUR CODE GOES BELOW\n",
        "# "
      ],
      "execution_count": null,
      "outputs": []
    },
    {
      "cell_type": "markdown",
      "metadata": {
        "id": "YC9AVuitZFD8"
      },
      "source": [
        "## 5. Aggregate Functions "
      ]
    },
    {
      "cell_type": "markdown",
      "metadata": {
        "id": "UxbUs5stZiZs"
      },
      "source": [
        "### Examples"
      ]
    },
    {
      "cell_type": "code",
      "metadata": {
        "id": "crdCNIiaJ9L-"
      },
      "source": [
        "# Loading and previewing the dataset we will use.\n",
        "# ---\n",
        "#\n",
        "ebola_df = pd.read_csv('https://bit.ly/2T60DKG')\n",
        "ebola_df.head()"
      ],
      "execution_count": null,
      "outputs": []
    },
    {
      "cell_type": "code",
      "metadata": {
        "id": "lMkqHrLdZiZv"
      },
      "source": [
        "# Checking the size of our dataset.\n",
        "# ---\n",
        "# Dataset URL = https://bit.ly/2T60DKG\n",
        "# ---\n",
        "# YOUR CODE GOES BELOW\n",
        "# \n",
        "liberia_records = ebola_df[ebola_df.Country.isin(['Liberia'])]\n",
        "liberia_records.shape"
      ],
      "execution_count": null,
      "outputs": []
    },
    {
      "cell_type": "code",
      "metadata": {
        "id": "1mb9r-5uhXRb"
      },
      "source": [
        "# Example 1\n",
        "# ---\n",
        "# Count() Function\n",
        "# ---\n",
        "# How many values do we have accoss our variables in our ebola dataset?\n",
        "# ---\n",
        "#\n",
        "liberia_records = ebola_df[ebola_df.Country.isin(['Liberia'])]\n",
        "liberia_records.count()"
      ],
      "execution_count": null,
      "outputs": []
    },
    {
      "cell_type": "code",
      "metadata": {
        "id": "fv0c4tTEZiaB"
      },
      "source": [
        "# Example 2\n",
        "# ---\n",
        "# Unique Occurrences\n",
        "# ---\n",
        "# Were all records in our ebola dataset unique?\n",
        "# ---\n",
        "# \n",
        "ebola_df[ebola_df.duplicated()].shape\n",
        "\n",
        "# Yes, there were no duplicate records"
      ],
      "execution_count": null,
      "outputs": []
    },
    {
      "cell_type": "code",
      "metadata": {
        "id": "fQsRKwb1eeWB"
      },
      "source": [
        "# Example 3\n",
        "# ---\n",
        "# Sum\n",
        "# ---\n",
        "# How many ebola cases in Sierra Leone were reported given the ebola dataset?\n",
        "# ---\n",
        "# \n",
        "sierra_cases_sum = ebola_df[ebola_df.Country.isin(['Sierra Leone'])][['Value']].sum() \n",
        "sierra_cases_sum"
      ],
      "execution_count": null,
      "outputs": []
    },
    {
      "cell_type": "code",
      "metadata": {
        "id": "rLSxUtujZGe9"
      },
      "source": [
        "# Example 4\n",
        "# ---\n",
        "# Minimum\n",
        "# ---\n",
        "# Which record had the least no of ebola cases?\n",
        "# ---\n",
        "# \n",
        "least_cases = ebola_df.min()\n",
        "least_cases "
      ],
      "execution_count": null,
      "outputs": []
    },
    {
      "cell_type": "code",
      "metadata": {
        "id": "u943169peXFP"
      },
      "source": [
        "# Example 5\n",
        "# ---\n",
        "# Maximum\n",
        "# ---\n",
        "# Which record had the highest no of ebola cases?\n",
        "# ---\n",
        "# \n",
        "highest_cases = ebola_df.max()\n",
        "highest_cases"
      ],
      "execution_count": null,
      "outputs": []
    },
    {
      "cell_type": "code",
      "metadata": {
        "id": "G5-TLQHQeYsK"
      },
      "source": [
        "# Example 6\n",
        "# ---\n",
        "# Mean\n",
        "# ---\n",
        "# What was the average number of ebola cases in Sierra Leone?\n",
        "# ---\n",
        "# \n",
        "sierra_cases_avg = ebola_df[ebola_df.Country.isin(['Sierra Leone'])][['Value']].mean() \n",
        "sierra_cases_avg"
      ],
      "execution_count": null,
      "outputs": []
    },
    {
      "cell_type": "code",
      "metadata": {
        "id": "OpX6s0yueecR"
      },
      "source": [
        "# Example 7\n",
        "# ---\n",
        "# Mode\n",
        "# ---\n",
        "# Which country had the most records in the Ebola dataset? \n",
        "# ---\n",
        "# \n",
        "frequent_values_df = ebola_df['Country'].mode() \n",
        "frequent_values_df"
      ],
      "execution_count": null,
      "outputs": []
    },
    {
      "cell_type": "code",
      "metadata": {
        "id": "wWpB21E9CiJn"
      },
      "source": [
        "# Example 8\n",
        "# ---\n",
        "# Median\n",
        "# ---\n",
        "# The median value of the Ebola cases.\n",
        "# ---\n",
        "# \n",
        "median_values_df = ebola_df['Value'].median() \n",
        "median_values_df"
      ],
      "execution_count": null,
      "outputs": []
    },
    {
      "cell_type": "code",
      "metadata": {
        "id": "KhVsLoBoedbc"
      },
      "source": [
        "# Example 9\n",
        "# ---\n",
        "# Summary Statistics\n",
        "# ---\n",
        "# Create a descriptive statistics table of the given ebola dataset.\n",
        "# ---\n",
        "# \n",
        "ebola_df.describe()"
      ],
      "execution_count": null,
      "outputs": []
    },
    {
      "cell_type": "markdown",
      "metadata": {
        "id": "1mUNWEtSZsi9"
      },
      "source": [
        "### <font color=\"green\">Challenges</font>"
      ]
    },
    {
      "cell_type": "code",
      "metadata": {
        "id": "R-G7d9HyZsi_"
      },
      "source": [
        "# Challenge 1\n",
        "# ---\n",
        "# How many records can be found in the following insurance dataset?\n",
        "# ---\n",
        "# Insurance Dataset url = https://bit.ly/2y5CRYc\n",
        "# ---\n",
        "# This dataset contains anonymised patient data.\n",
        "# ---\n",
        "# YOUR CODE GOES BELOW\n",
        "# "
      ],
      "execution_count": null,
      "outputs": []
    },
    {
      "cell_type": "code",
      "metadata": {
        "id": "dl1KEjeoZsjB"
      },
      "source": [
        "# Challenge 2\n",
        "# ---\n",
        "# Are there any duplicates in the insurance dataset?\n",
        "# ---\n",
        "# YOUR CODE GOES BELOW\n",
        "# "
      ],
      "execution_count": null,
      "outputs": []
    },
    {
      "cell_type": "code",
      "metadata": {
        "id": "vDj1GABnZsjD"
      },
      "source": [
        "# Challenge 3\n",
        "# ---\n",
        "# Which regions did the patients come from?\n",
        "# ---\n",
        "# YOUR CODE GOES BELOW\n",
        "# "
      ],
      "execution_count": null,
      "outputs": []
    },
    {
      "cell_type": "code",
      "metadata": {
        "id": "TAtrNHs824ay"
      },
      "source": [
        "# Challenge 4\n",
        "# ---\n",
        "# What was the highest bmi recorded for patients from northwest and southwest regions?\n",
        "# ---\n",
        "# YOUR CODE GOES BELOW\n",
        "# "
      ],
      "execution_count": null,
      "outputs": []
    },
    {
      "cell_type": "code",
      "metadata": {
        "id": "tsloZ4Bo24P1"
      },
      "source": [
        "# Challenge 5\n",
        "# ---\n",
        "# What was the youngest age of a patient?\n",
        "# ---\n",
        "# YOUR CODE GOES BELOW\n",
        "#"
      ],
      "execution_count": null,
      "outputs": []
    },
    {
      "cell_type": "code",
      "metadata": {
        "id": "XffQqHOd24KD"
      },
      "source": [
        "# Challenge 6\n",
        "# ---\n",
        "# What was the average bmi recorded for patients above 50 years old?\n",
        "# ---\n",
        "# YOUR CODE GOES BELOW\n",
        "#"
      ],
      "execution_count": null,
      "outputs": []
    },
    {
      "cell_type": "code",
      "metadata": {
        "id": "2IULqwYi235v"
      },
      "source": [
        "# Challenge 7\n",
        "# ---\n",
        "# How much was spent collectively by male and female patients?\n",
        "# ---\n",
        "# YOUR CODE GOES BELOW\n",
        "#"
      ],
      "execution_count": null,
      "outputs": []
    },
    {
      "cell_type": "markdown",
      "metadata": {
        "id": "6XZbcORGZLd0"
      },
      "source": [
        "## 6. Pivot Tables"
      ]
    },
    {
      "cell_type": "markdown",
      "metadata": {
        "id": "xldYtGZ-Zjz5"
      },
      "source": [
        "### Examples"
      ]
    },
    {
      "cell_type": "code",
      "metadata": {
        "id": "NlfAgV7qJQoA"
      },
      "source": [
        "# Loading and previewing the dataset that we will use\n",
        "# ---\n",
        "#\n",
        "insurance_df = pd.read_csv('https://bit.ly/2y5CRYc')\n",
        "insurance_df.head()"
      ],
      "execution_count": null,
      "outputs": []
    },
    {
      "cell_type": "code",
      "metadata": {
        "id": "XyNlcAEhZjz6"
      },
      "source": [
        "# Example 1\n",
        "# ---\n",
        "# A pivot table is a summary table and comprises of \n",
        "# outcomes similar to the group by tables.\n",
        "# --- \n",
        "# We will start working with pivot tables by getting one column \n",
        "# and applying an aggregate function as shown below\n",
        "# ---\n",
        "# \n",
        "pd.pivot_table(insurance_df, index=['region'], aggfunc='mean')"
      ],
      "execution_count": null,
      "outputs": []
    },
    {
      "cell_type": "code",
      "metadata": {
        "id": "E9eEtnPKZjz-"
      },
      "source": [
        "# Example 2\n",
        "# ---\n",
        "# Getting the first entry for each gender.\n",
        "# NB: You can get the last one too using last().\n",
        "# In addition, note the that the columns have been arranged alphabetically.\n",
        "# ---\n",
        "# \n",
        "pd.pivot_table(insurance_df, index=['sex'], aggfunc='first')"
      ],
      "execution_count": null,
      "outputs": []
    },
    {
      "cell_type": "code",
      "metadata": {
        "id": "XncXWHbLxNqv"
      },
      "source": [
        "# Example 3\n",
        "# ---\n",
        "# We can group a single column by another column then apply an aggregate function as shown\n",
        "# ---\n",
        "# We will use numpy to compute the mean\n",
        "#\n",
        "pd.pivot_table(insurance_df, index=['sex'], aggfunc={'expenses': np.mean})"
      ],
      "execution_count": null,
      "outputs": []
    },
    {
      "cell_type": "code",
      "metadata": {
        "id": "ek2sW9X2zqwz"
      },
      "source": [
        "# Example 4\n",
        "# ---\n",
        "# Grouping region by another column i.e. bmi, applying an aggregate function\n",
        "# ---\n",
        "#\n",
        "pd.pivot_table(insurance_df, index=['region'], aggfunc={'bmi': np.mean})"
      ],
      "execution_count": null,
      "outputs": []
    },
    {
      "cell_type": "code",
      "metadata": {
        "id": "ZfOhsM1I0bNu"
      },
      "source": [
        "# Example 5\n",
        "# ---\n",
        "# Using a pivote table, we can also create a summary statistical table as shown below\n",
        "# ---\n",
        "#\n",
        "pd.pivot_table(insurance_df, index=['region'], aggfunc={'expenses': 'describe'})"
      ],
      "execution_count": null,
      "outputs": []
    },
    {
      "cell_type": "code",
      "metadata": {
        "id": "3_brcCVY3gHq"
      },
      "source": [
        "# Example 6\n",
        "# ---\n",
        "# Getting the no. of children in each region\n",
        "# ---\n",
        "#  \n",
        "# \n",
        "pd.pivot_table(insurance_df, index=['region'], aggfunc={'children': sum}) "
      ],
      "execution_count": null,
      "outputs": []
    },
    {
      "cell_type": "code",
      "metadata": {
        "id": "ldDrVxC54Al8"
      },
      "source": [
        "# Example 6\n",
        "# ---\n",
        "# Applying multiple aggregate functions to a group\n",
        "# ---\n",
        "# \n",
        "pd.pivot_table(insurance_df, index=['region', 'sex'], aggfunc={'expenses': [min, max, sum]})"
      ],
      "execution_count": null,
      "outputs": []
    },
    {
      "cell_type": "code",
      "metadata": {
        "id": "e1HkBiWr51y6"
      },
      "source": [
        "# Example 7\n",
        "# ---\n",
        "# Applying multiple aggregate functions to a group\n",
        "# ---\n",
        "# \n",
        "pd.pivot_table(insurance_df, index=['region', 'sex'], aggfunc={'expenses': sum})"
      ],
      "execution_count": null,
      "outputs": []
    },
    {
      "cell_type": "markdown",
      "metadata": {
        "id": "q9c7In767vRZ"
      },
      "source": [
        "### <font color=\"green\">Challenges</font>"
      ]
    },
    {
      "cell_type": "markdown",
      "metadata": {
        "id": "WDtAMSQd7y3B"
      },
      "source": [
        "The challenges in this section will be same as the ones group by challenges. Compare your solutions with the ones you got in the previous section."
      ]
    },
    {
      "cell_type": "code",
      "metadata": {
        "id": "8U-l2XmL7vRd"
      },
      "source": [
        "# You will use the supermarket dataset you previously used. \n",
        "# ---\n",
        "# The dataset contains customer invoice data.\n",
        "# ---\n",
        "# Dataset url = https://bit.ly/SuperMarketSalesDB\n",
        "# ---\n",
        "#  "
      ],
      "execution_count": null,
      "outputs": []
    },
    {
      "cell_type": "code",
      "metadata": {
        "id": "YQ47XAX67vRm"
      },
      "source": [
        "# Challenge 1\n",
        "# ---\n",
        "# Question: What was the average tax per city?\n",
        "# ---\n",
        "# OUR CODE GOES BELOW \n",
        "# "
      ],
      "execution_count": null,
      "outputs": []
    },
    {
      "cell_type": "code",
      "metadata": {
        "id": "M54iMgRt7vRv"
      },
      "source": [
        "# Challenge 2\n",
        "# ---\n",
        "# Question: How much did female members from the city of Yagon spend?\n",
        "# ---\n",
        "# OUR CODE GOES BELOW \n",
        "# "
      ],
      "execution_count": null,
      "outputs": []
    },
    {
      "cell_type": "code",
      "metadata": {
        "id": "n7ua8NHY7vSI"
      },
      "source": [
        "# Challenge 3\n",
        "# ---\n",
        "# Question: How much was spent across all cities?\n",
        "# ---\n",
        "# OUR CODE GOES BELOW \n",
        "# "
      ],
      "execution_count": null,
      "outputs": []
    },
    {
      "cell_type": "code",
      "metadata": {
        "id": "F4Cdnyqb7vSN"
      },
      "source": [
        "# Challenge 4\n",
        "# ---\n",
        "# Question: What was the sum of goods sold across all branches?\n",
        "# ---\n",
        "# OUR CODE GOES BELOW \n",
        "# "
      ],
      "execution_count": null,
      "outputs": []
    },
    {
      "cell_type": "code",
      "metadata": {
        "id": "BiqXSy4Q7vSS"
      },
      "source": [
        "# Challenge 5\n",
        "# ---\n",
        "# Question: Which branches collected the most amount of money? \n",
        "# ---\n",
        "# OUR CODE GOES BELOW \n",
        "# "
      ],
      "execution_count": null,
      "outputs": []
    },
    {
      "cell_type": "code",
      "metadata": {
        "id": "PXKJv3tW7vSY"
      },
      "source": [
        "# Challenge 6\n",
        "# ---\n",
        "# Question: Which were the top rated branches?\n",
        "# ---\n",
        "# OUR CODE GOES BELOW \n",
        "# "
      ],
      "execution_count": null,
      "outputs": []
    },
    {
      "cell_type": "code",
      "metadata": {
        "id": "0MF7tVGR7vSd"
      },
      "source": [
        "# Challenge 7\n",
        "# ---\n",
        "# Question: Make a comparison between non-members who made cash payments and credit card payments.\n",
        "# ---\n",
        "# OUR CODE GOES BELOW \n",
        "# "
      ],
      "execution_count": null,
      "outputs": []
    },
    {
      "cell_type": "code",
      "metadata": {
        "id": "v_YYoGhh7vSj"
      },
      "source": [
        "# Challenge 8\n",
        "# ---\n",
        "# Question: Show the products line that sold the most indicating the rating.\n",
        "# ---\n",
        "# OUR CODE GOES BELOW \n",
        "# "
      ],
      "execution_count": null,
      "outputs": []
    }
  ]
}